{
 "cells": [
  {
   "cell_type": "code",
   "execution_count": 1,
   "metadata": {},
   "outputs": [],
   "source": [
    "from sklearn.linear_model import LogisticRegression\n",
    "from sklearn.ensemble import RandomForestClassifier\n",
    "import pandas as pd\n",
    "import numpy as np\n",
    "import matplotlib.pyplot as plt\n",
    "%matplotlib inline"
   ]
  },
  {
   "cell_type": "code",
   "execution_count": 2,
   "metadata": {},
   "outputs": [],
   "source": [
    "logisticRegr = LogisticRegression()\n",
    "random_forest = RandomForestClassifier(n_estimators=100)"
   ]
  },
  {
   "cell_type": "code",
   "execution_count": 3,
   "metadata": {},
   "outputs": [
    {
     "name": "stdout",
     "output_type": "stream",
     "text": [
      "(1009, 14)\n",
      "(300, 13)\n"
     ]
    }
   ],
   "source": [
    "train=pd.read_csv('D:/kaggle2/Train.csv')\n",
    "test=pd.read_csv('D:/kaggle2/Test.csv')\n",
    "print(train.shape)\n",
    "print(test.shape)"
   ]
  },
  {
   "cell_type": "code",
   "execution_count": 4,
   "metadata": {},
   "outputs": [],
   "source": [
    "train = train.drop(labels=['home.dest', 'name', 'ticket', 'cabin','body','boat'], axis=1) \n",
    "test = test.drop(labels=['home.dest', 'name', 'ticket', 'cabin','body','boat'], axis=1) "
   ]
  },
  {
   "cell_type": "code",
   "execution_count": 13,
   "metadata": {},
   "outputs": [
    {
     "name": "stdout",
     "output_type": "stream",
     "text": [
      "<class 'pandas.core.frame.DataFrame'>\n",
      "RangeIndex: 1009 entries, 0 to 1008\n",
      "Data columns (total 11 columns):\n",
      "pclass         1009 non-null float64\n",
      "survived       1009 non-null float64\n",
      "sex            1009 non-null int32\n",
      "age            1009 non-null int32\n",
      "sibsp          1009 non-null float64\n",
      "parch          1009 non-null float64\n",
      "fare           1009 non-null float64\n",
      "embarked_C     1009 non-null uint8\n",
      "embarked_Q     1009 non-null uint8\n",
      "embarked_S     1009 non-null uint8\n",
      "family size    1009 non-null float64\n",
      "dtypes: float64(6), int32(2), uint8(3)\n",
      "memory usage: 58.2 KB\n",
      "None\n"
     ]
    }
   ],
   "source": [
    "print(train.info())"
   ]
  },
  {
   "cell_type": "code",
   "execution_count": 5,
   "metadata": {},
   "outputs": [],
   "source": [
    "#data wrangling\n",
    "#converting character data to int type\n",
    "def wrangle(dataset):\n",
    "    # sex {male, female} to {0, 1}\n",
    "    dataset['sex'] = dataset['sex'].map( {'female': 1, 'male': 0} ).astype(int)\n",
    "    \n",
    "    # embarked {S, C, Q} => 3 binary variables\n",
    "    embarked_separate_port = pd.get_dummies(dataset['embarked'], prefix='embarked')\n",
    "    dataset = pd.concat([dataset, embarked_separate_port], axis=1)\n",
    "    return dataset.drop('embarked', axis=1)\n",
    "train=wrangle(train)\n",
    "test=wrangle(test)"
   ]
  },
  {
   "cell_type": "code",
   "execution_count": 14,
   "metadata": {},
   "outputs": [
    {
     "name": "stdout",
     "output_type": "stream",
     "text": [
      "<class 'pandas.core.frame.DataFrame'>\n",
      "RangeIndex: 1009 entries, 0 to 1008\n",
      "Data columns (total 11 columns):\n",
      "pclass         1009 non-null float64\n",
      "survived       1009 non-null float64\n",
      "sex            1009 non-null int32\n",
      "age            1009 non-null int32\n",
      "sibsp          1009 non-null float64\n",
      "parch          1009 non-null float64\n",
      "fare           1009 non-null float64\n",
      "embarked_C     1009 non-null uint8\n",
      "embarked_Q     1009 non-null uint8\n",
      "embarked_S     1009 non-null uint8\n",
      "family size    1009 non-null float64\n",
      "dtypes: float64(6), int32(2), uint8(3)\n",
      "memory usage: 58.2 KB\n"
     ]
    }
   ],
   "source": [
    "train.head()\n",
    "train.info()"
   ]
  },
  {
   "cell_type": "code",
   "execution_count": 6,
   "metadata": {},
   "outputs": [],
   "source": [
    "# we'll fill in incomplete values of age. We will do that by calculating the median value found by using age values\n",
    "#for different sex and class. As we have two sexes (1, 0) and three classes (1, 2, 3), \n",
    "#we will have 6 combinations and we will calculate the age from each combination.\n",
    "guess_ages = np.zeros((2,3))\n",
    "for i in range(0, 2):\n",
    "    for j in range(0, 3):\n",
    "        guess_data = train[(train['sex'] == i) & (train['pclass'] == j+1)]['age'].dropna()\n",
    "        age_guess = guess_data.median()\n",
    "        # Convert random age float to nearest .5 age\n",
    "        guess_ages[i,j] = int( age_guess/0.5 + 0.5 ) * 0.5\n",
    " \n",
    "def wrangle_age(dataset):\n",
    "    for i in range(0, 2):\n",
    "        for j in range(0, 3):\n",
    "            dataset.loc[ (dataset.age.isnull()) & (dataset.sex == i) & (dataset.pclass == j+1),'age'] = guess_ages[i,j]\n",
    "    dataset['age'] = dataset['age'].astype(int)\n",
    "    return dataset\n",
    " \n",
    "train = wrangle_age(train)\n",
    "test = wrangle_age(test)"
   ]
  },
  {
   "cell_type": "code",
   "execution_count": 7,
   "metadata": {},
   "outputs": [],
   "source": [
    "train['family size']=train['sibsp']+train['parch']+1\n",
    "test['family size']=test['sibsp']+test['parch']+1"
   ]
  },
  {
   "cell_type": "code",
   "execution_count": 8,
   "metadata": {},
   "outputs": [
    {
     "name": "stdout",
     "output_type": "stream",
     "text": [
      "33.64741220238095\n"
     ]
    }
   ],
   "source": [
    "print(train[\"fare\"].mean())\n",
    "train['fare']=train['fare'].fillna(train[\"fare\"].mean())"
   ]
  },
  {
   "cell_type": "code",
   "execution_count": 9,
   "metadata": {},
   "outputs": [
    {
     "name": "stdout",
     "output_type": "stream",
     "text": [
      "<class 'pandas.core.frame.DataFrame'>\n",
      "RangeIndex: 1009 entries, 0 to 1008\n",
      "Data columns (total 10 columns):\n",
      "pclass         1009 non-null float64\n",
      "sex            1009 non-null int32\n",
      "age            1009 non-null int32\n",
      "sibsp          1009 non-null float64\n",
      "parch          1009 non-null float64\n",
      "fare           1009 non-null float64\n",
      "embarked_C     1009 non-null uint8\n",
      "embarked_Q     1009 non-null uint8\n",
      "embarked_S     1009 non-null uint8\n",
      "family size    1009 non-null float64\n",
      "dtypes: float64(5), int32(2), uint8(3)\n",
      "memory usage: 50.3 KB\n"
     ]
    }
   ],
   "source": [
    "x_train=train.drop(['survived'],axis=1)\n",
    "y_train=train['survived']\n",
    "x_train.info()"
   ]
  },
  {
   "cell_type": "code",
   "execution_count": 10,
   "metadata": {},
   "outputs": [
    {
     "data": {
      "text/plain": [
       "RandomForestClassifier(bootstrap=True, class_weight=None, criterion='gini',\n",
       "            max_depth=None, max_features='auto', max_leaf_nodes=None,\n",
       "            min_impurity_decrease=0.0, min_impurity_split=None,\n",
       "            min_samples_leaf=1, min_samples_split=2,\n",
       "            min_weight_fraction_leaf=0.0, n_estimators=100, n_jobs=1,\n",
       "            oob_score=False, random_state=None, verbose=0,\n",
       "            warm_start=False)"
      ]
     },
     "execution_count": 10,
     "metadata": {},
     "output_type": "execute_result"
    }
   ],
   "source": [
    "logisticRegr.fit(x_train,y_train)\n",
    "random_forest.fit(x_train, y_train)"
   ]
  },
  {
   "cell_type": "code",
   "execution_count": 12,
   "metadata": {},
   "outputs": [
    {
     "name": "stdout",
     "output_type": "stream",
     "text": [
      "[0 0 0 0 0 1 1 0 0 0 0 0 1 0 1 0 0 1 1 0 1 0 0 0 0 1 0 1 1 1 0 1 0 1 0 1 0\n",
      " 0 0 0 1 1 0 1 0 0 1 0 0 0 0 1 0 1 0 0 0 0 1 0 1 1 1 0 0 0 0 0 0 1 1 0 0 0\n",
      " 1 0 1 1 0 0 1 0 0 1 1 0 0 0 1 0 1 0 0 0 1 1 0 1 1 0 1 0 0 0 0 0 1 0 1 0 1\n",
      " 0 0 0 1 0 0 0 0 1 0 1 0 0 1 0 1 0 0 1 1 0 1 0 0 0 0 1 0 1 1 0 0 0 1 1 0 0\n",
      " 1 0 0 0 1 0 0 1 0 0 0 0 0 0 1 1 0 1 0 1 1 0 1 1 0 0 1 0 1 1 0 0 0 0 1 0 1\n",
      " 0 0 0 0 0 1 0 0 0 0 0 0 0 1 1 1 0 1 1 1 1 0 0 0 0 0 0 1 1 1 0 1 0 0 1 0 0\n",
      " 0 1 1 0 0 0 0 0 0 0 0 0 0 0 0 0 0 0 0 1 0 0 1 1 1 1 1 0 1 0 1 0 1 0 0 0 0\n",
      " 0 0 0 0 0 1 0 1 1 0 0 1 0 0 0 0 0 0 0 1 0 1 0 1 0 1 0 0 1 1 0 1 1 0 0 0 1\n",
      " 1 0 0 1]\n",
      "[1 0 0 0 0 1 0 0 0 0 0 0 0 0 1 0 0 1 1 0 1 0 0 0 0 1 0 1 1 1 0 1 0 1 0 1 0\n",
      " 0 1 1 1 1 0 1 0 0 1 0 0 0 0 1 1 1 0 0 0 0 1 0 1 1 1 0 0 1 0 0 0 1 1 0 0 0\n",
      " 1 0 1 1 0 0 1 0 0 1 1 0 0 1 1 1 1 0 0 0 1 1 1 1 1 0 1 0 0 1 0 0 1 0 1 0 1\n",
      " 0 1 0 1 1 0 0 0 1 0 1 1 0 1 0 0 0 0 1 0 1 1 1 0 0 1 1 0 0 1 0 0 1 1 1 0 0\n",
      " 1 0 0 0 1 0 1 0 0 0 0 0 1 1 1 1 0 0 0 1 1 0 1 1 0 0 1 0 1 1 1 0 0 0 1 1 1\n",
      " 0 0 0 0 0 1 0 0 0 0 0 0 0 1 1 1 0 1 1 1 0 0 0 0 0 1 0 1 1 1 0 0 0 1 1 1 0\n",
      " 0 1 1 0 0 0 0 0 0 0 0 0 0 1 1 0 0 0 0 1 0 0 0 1 1 1 1 0 1 0 0 0 1 0 0 1 0\n",
      " 0 0 0 0 0 1 0 0 1 0 1 1 0 0 0 1 0 0 0 1 0 1 0 1 0 1 0 0 1 1 0 1 1 0 0 0 0\n",
      " 1 0 0 1]\n"
     ]
    }
   ],
   "source": [
    "ans=logisticRegr.predict(test).astype(int)\n",
    "ans1=random_forest.predict(test).astype(int)\n",
    "print(ans)\n",
    "print(ans1)\n",
    "j=300\n",
    "index=[]\n",
    "for i in range(j):\n",
    "    index.append(i)\n",
    "res=pd.DataFrame({'Id':index,'survived':ans1})\n",
    "res.head()\n",
    "res.to_csv('D:/kaggle2/resultf.csv',index=False)"
   ]
  },
  {
   "cell_type": "code",
   "execution_count": null,
   "metadata": {},
   "outputs": [],
   "source": []
  }
 ],
 "metadata": {
  "kernelspec": {
   "display_name": "Python 3",
   "language": "python",
   "name": "python3"
  },
  "language_info": {
   "codemirror_mode": {
    "name": "ipython",
    "version": 3
   },
   "file_extension": ".py",
   "mimetype": "text/x-python",
   "name": "python",
   "nbconvert_exporter": "python",
   "pygments_lexer": "ipython3",
   "version": "3.6.5"
  }
 },
 "nbformat": 4,
 "nbformat_minor": 2
}
